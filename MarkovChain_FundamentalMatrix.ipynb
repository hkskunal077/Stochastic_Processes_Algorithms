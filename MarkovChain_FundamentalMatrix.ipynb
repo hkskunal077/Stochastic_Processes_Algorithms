{
  "nbformat": 4,
  "nbformat_minor": 0,
  "metadata": {
    "colab": {
      "name": "MarkovChain_FundamentalMatrix.ipynb",
      "provenance": [],
      "collapsed_sections": [],
      "authorship_tag": "ABX9TyM+jp8H5LsAZrAn91vOedDr",
      "include_colab_link": true
    },
    "kernelspec": {
      "name": "python3",
      "display_name": "Python 3"
    }
  },
  "cells": [
    {
      "cell_type": "markdown",
      "metadata": {
        "id": "view-in-github",
        "colab_type": "text"
      },
      "source": [
        "<a href=\"https://colab.research.google.com/github/kunal077/Stochastic_Processes_Algorithms/blob/main/MarkovChain_FundamentalMatrix.ipynb\" target=\"_parent\"><img src=\"https://colab.research.google.com/assets/colab-badge.svg\" alt=\"Open In Colab\"/></a>"
      ]
    },
    {
      "cell_type": "markdown",
      "metadata": {
        "id": "MZmv-eFPFsNL"
      },
      "source": [
        "MARKOV CHAIN CLASS"
      ]
    },
    {
      "cell_type": "code",
      "metadata": {
        "id": "0FK982NRgJ_1"
      },
      "source": [
        "import matplotlib.pyplot as plt\n",
        "import numpy as np\n",
        "\n",
        "class MarkovChain():\n",
        "  def __init__(self, transition_prob):\n",
        "    self.transition_prob = transition_prob\n",
        "    self.states= list(transition_prob.keys())\n",
        "\n",
        "    def next_state(self, current_state):\n",
        "      return np.random.choice(\n",
        "          self.states, p = [self.transition_prob[current_state][next_state]\n",
        "                            for next_state in self.states])\n",
        "      \n",
        "      def generate_states(self, current_state, no ):\n",
        "        future_states = []\n",
        "        for i in range(no):\n",
        "          future_states.append(self.next_state(current_state))\n",
        "        return future_states"
      ],
      "execution_count": null,
      "outputs": []
    },
    {
      "cell_type": "markdown",
      "metadata": {
        "id": "apxo4NMWFwZD"
      },
      "source": [
        "TRANSITION PROBABILITY MATRIX"
      ]
    },
    {
      "cell_type": "code",
      "metadata": {
        "id": "9ofMmMUqhzKS"
      },
      "source": [
        "transition_prob = {'X0':{'X0':1, 'X1':0, 'X2':0, 'X3':0, 'X4':0},\n",
        "                  'X1':{'X0':0.6, 'X1':0, 'X2':0.4, 'X3':0, 'X4':0},\n",
        "                  'X2':{'X0':0, 'X1':0.6, 'X2':0, 'X3':0.4, 'X4':0},\n",
        "                  'X3':{'X0':0, 'X1':0, 'X2':0.6, 'X3':0, 'X4':0.4},\n",
        "                  'X4':{'X0':0, 'X1':0, 'X2':0, 'X3':0, 'X4':1}}\n",
        "\n",
        "\n",
        "gambler_chain = MarkovChain(transition_prob=transition_prob)\n",
        "absorbing_states = 2\n",
        "total_states = 5\n",
        "non_absorbing_states = total_states - absorbing_states"
      ],
      "execution_count": null,
      "outputs": []
    },
    {
      "cell_type": "markdown",
      "metadata": {
        "id": "sjV1eNzTGrFD"
      },
      "source": [
        "CONVERTING DICTIONARY TO PROBABILITY TRANSITION MATRIX"
      ]
    },
    {
      "cell_type": "code",
      "metadata": {
        "id": "ySs9L_wDGrXr",
        "colab": {
          "base_uri": "https://localhost:8080/",
          "height": 346
        },
        "outputId": "6ab7645d-458a-4c5a-a2f5-b43383c191a7"
      },
      "source": [
        "final_list = []\n",
        "for name in gambler_chain.transition_prob:\n",
        "  temp_list = []\n",
        "  print(name, gambler_chain.transition_prob[name])\n",
        "  print(gambler_chain.transition_prob[name].keys(), gambler_chain.transition_prob[name].values())\n",
        "  temp_list.append(list(gambler_chain.transition_prob[name].values()))\n",
        "  final_list.append(temp_list)\n",
        "\n",
        "print()\n",
        "print(final_list)\n",
        "print()\n",
        "return_matrix = [[0 for x in range(total_states)]for y in range(total_states)]\n",
        "print(return_matrix)\n",
        "i, j = 0, 0\n",
        "new_final_list = []\n",
        "for namekey in final_list:\n",
        "  new_temp_list = []\n",
        "  for keyvalue in namekey[0]:\n",
        "    new_temp_list.append(keyvalue)\n",
        "  new_final_list.append(new_temp_list)\n",
        "\n",
        "print()\n",
        "print(new_final_list[:][:])\n",
        "final_return_matrix = new_final_list\n",
        "print(final_return_matrix)"
      ],
      "execution_count": null,
      "outputs": [
        {
          "output_type": "stream",
          "text": [
            "X0 {'X0': 1, 'X1': 0, 'X2': 0, 'X3': 0, 'X4': 0}\n",
            "dict_keys(['X0', 'X1', 'X2', 'X3', 'X4']) dict_values([1, 0, 0, 0, 0])\n",
            "X1 {'X0': 0.6, 'X1': 0, 'X2': 0.4, 'X3': 0, 'X4': 0}\n",
            "dict_keys(['X0', 'X1', 'X2', 'X3', 'X4']) dict_values([0.6, 0, 0.4, 0, 0])\n",
            "X2 {'X0': 0, 'X1': 0.6, 'X2': 0, 'X3': 0.4, 'X4': 0}\n",
            "dict_keys(['X0', 'X1', 'X2', 'X3', 'X4']) dict_values([0, 0.6, 0, 0.4, 0])\n",
            "X3 {'X0': 0, 'X1': 0, 'X2': 0.6, 'X3': 0, 'X4': 0.4}\n",
            "dict_keys(['X0', 'X1', 'X2', 'X3', 'X4']) dict_values([0, 0, 0.6, 0, 0.4])\n",
            "X4 {'X0': 0, 'X1': 0, 'X2': 0, 'X3': 0, 'X4': 1}\n",
            "dict_keys(['X0', 'X1', 'X2', 'X3', 'X4']) dict_values([0, 0, 0, 0, 1])\n",
            "\n",
            "[[[1, 0, 0, 0, 0]], [[0.6, 0, 0.4, 0, 0]], [[0, 0.6, 0, 0.4, 0]], [[0, 0, 0.6, 0, 0.4]], [[0, 0, 0, 0, 1]]]\n",
            "\n",
            "[[0, 0, 0, 0, 0], [0, 0, 0, 0, 0], [0, 0, 0, 0, 0], [0, 0, 0, 0, 0], [0, 0, 0, 0, 0]]\n",
            "\n",
            "[[1, 0, 0, 0, 0], [0.6, 0, 0.4, 0, 0], [0, 0.6, 0, 0.4, 0], [0, 0, 0.6, 0, 0.4], [0, 0, 0, 0, 1]]\n",
            "[[1, 0, 0, 0, 0], [0.6, 0, 0.4, 0, 0], [0, 0.6, 0, 0.4, 0], [0, 0, 0.6, 0, 0.4], [0, 0, 0, 0, 1]]\n"
          ],
          "name": "stdout"
        }
      ]
    },
    {
      "cell_type": "markdown",
      "metadata": {
        "id": "FkNyQR2SPfXf"
      },
      "source": [
        "CONVERTING MATRIX TO Q,R,0,I MATRIX FROM PROBABILITY TRANSITION MATRIX\n",
        "\n",
        "temp = []\n",
        "temp = final_return_matrix[:][0]\n",
        "for i in range(3):\n",
        "  final_return_matrix[:][i] = final_return_matrix[:][i+1]\n",
        "final_return_matrix[:][3] = temp\n",
        "\n",
        "temp = final_return_matrix[0][:]\n",
        "for i in range(3):\n",
        "  final_return_matrix[i][:] = final_return_matrix[i+1][:]\n",
        "final_return_matrix[3][:] = temp"
      ]
    },
    {
      "cell_type": "code",
      "metadata": {
        "id": "oEXmqsY-Pfn7"
      },
      "source": [
        "\n",
        "\n"
      ],
      "execution_count": null,
      "outputs": []
    },
    {
      "cell_type": "markdown",
      "metadata": {
        "id": "mP7yrukaF54T"
      },
      "source": [
        "I MATRIX (consisting of absorbing states)"
      ]
    },
    {
      "cell_type": "code",
      "metadata": {
        "id": "e7_eDKRjh2i5",
        "colab": {
          "base_uri": "https://localhost:8080/",
          "height": 35
        },
        "outputId": "5a26e9d6-a64e-4397-f938-4b321bc39e99"
      },
      "source": [
        "#constructing I for absorbing states\n",
        "Imatrix = [[0 for i in range(3)] for j in range(3)]\n",
        "for i in range(3):\n",
        "  Imatrix[i][i] = 1\n",
        "\n",
        "print(Imatrix)"
      ],
      "execution_count": null,
      "outputs": [
        {
          "output_type": "stream",
          "text": [
            "[[1, 0, 0], [0, 1, 0], [0, 0, 1]]\n"
          ],
          "name": "stdout"
        }
      ]
    },
    {
      "cell_type": "markdown",
      "metadata": {
        "id": "q397lJDhGK8J"
      },
      "source": [
        "Q MATRIX (consisting of non-absorbing to non-absorbing states)"
      ]
    },
    {
      "cell_type": "code",
      "metadata": {
        "id": "097Q4RayoNt6",
        "colab": {
          "base_uri": "https://localhost:8080/",
          "height": 72
        },
        "outputId": "f49d897f-1352-4986-cdc3-0357ae589ce9"
      },
      "source": [
        "Qmatrix = []\n",
        "for i in range(1,4):\n",
        "  coloumn_temp_list = []\n",
        "  for j in range(1,4):\n",
        "    coloumn_temp_list.append(final_return_matrix[i][j])\n",
        "  Qmatrix.append(coloumn_temp_list)\n",
        "print(\"Q MATRIX\\n\")\n",
        "print(Qmatrix)"
      ],
      "execution_count": null,
      "outputs": [
        {
          "output_type": "stream",
          "text": [
            "Q MATRIX\n",
            "\n",
            "[[0, 0.4, 0], [0.6, 0, 0.4], [0, 0.6, 0]]\n"
          ],
          "name": "stdout"
        }
      ]
    },
    {
      "cell_type": "markdown",
      "metadata": {
        "id": "LDEBU_xLGgkV"
      },
      "source": [
        "R MATRIX (consisting of non-absorbing to absorbing states)"
      ]
    },
    {
      "cell_type": "code",
      "metadata": {
        "id": "leZJ5BbMGmSM",
        "colab": {
          "base_uri": "https://localhost:8080/",
          "height": 54
        },
        "outputId": "3c6940b1-1f6d-4df5-ea26-5cb45ed00688"
      },
      "source": [
        "Rmatrix = []\n",
        "for i in range(5):\n",
        "  coloumn_temp_list_rmatrix = []\n",
        "  for j in range(5):\n",
        "    if((i== 1 or i== 2 or i== 3)and(j == 0 or j == 4)):\n",
        "      coloumn_temp_list_rmatrix.append(final_return_matrix[i][j])\n",
        "  Rmatrix.append(coloumn_temp_list_rmatrix)\n",
        "print(Rmatrix)\n",
        "\n",
        "newRmatrix = []\n",
        "for row in Rmatrix:\n",
        "  if row != []:\n",
        "    newRmatrix.append(row)\n",
        "print(newRmatrix)\n",
        "\n",
        "del Rmatrix\n",
        "Rmatrix = []\n",
        "Rmatrix = newRmatrix"
      ],
      "execution_count": null,
      "outputs": [
        {
          "output_type": "stream",
          "text": [
            "[[], [0.6, 0], [0, 0], [0, 0.4], []]\n",
            "[[0.6, 0], [0, 0], [0, 0.4]]\n"
          ],
          "name": "stdout"
        }
      ]
    },
    {
      "cell_type": "code",
      "metadata": {
        "id": "DyJ9ohVmZiT8",
        "colab": {
          "base_uri": "https://localhost:8080/",
          "height": 108
        },
        "outputId": "951bdf51-5006-4f8e-f2f5-31ba4a81fb3f"
      },
      "source": [
        "print(Imatrix)\n",
        "print()\n",
        "print(Qmatrix)\n",
        "print()\n",
        "print(Rmatrix)"
      ],
      "execution_count": null,
      "outputs": [
        {
          "output_type": "stream",
          "text": [
            "[[1, 0, 0], [0, 1, 0], [0, 0, 1]]\n",
            "\n",
            "[[0, 0.4, 0], [0.6, 0, 0.4], [0, 0.6, 0]]\n",
            "\n",
            "[[0.6, 0], [0, 0], [0, 0.4]]\n"
          ],
          "name": "stdout"
        }
      ]
    },
    {
      "cell_type": "markdown",
      "metadata": {
        "id": "-ZCBNlIZacsB"
      },
      "source": [
        "Now using fundamental matrix we can find (a) The expected number of periods spent in state Tj starting from state Ti will be the i,j the element of Fundamental Matrix and (b) Probability that it will be eventually be absorbed in state Tj starting from state Ti"
      ]
    },
    {
      "cell_type": "code",
      "metadata": {
        "id": "4EcqS_wdbJZk",
        "colab": {
          "base_uri": "https://localhost:8080/",
          "height": 455
        },
        "outputId": "9616242e-dc15-41c9-f5e4-cf7fcdb7cdca"
      },
      "source": [
        "temp_fundamental_matrix = [[0 for x in range(3)]for y in range(3)]\n",
        "for i in range(3):\n",
        "  for j in range(3):\n",
        "    temp_fundamental_matrix[i][j] = Imatrix[i][j] - Qmatrix[i][j]\n",
        "\n",
        "import numpy as np\n",
        "temp_fundamental_matrix = np.array(temp_fundamental_matrix)\n",
        "fundamental_matrix = np.linalg.inv(temp_fundamental_matrix)\n",
        "print(\"\\nFUNDAMENTAL MATRIX WILL BE\")\n",
        "print(fundamental_matrix)\n",
        "print()\n",
        "for i in range(3):\n",
        "  for j in range(3):\n",
        "    print(\"Expected number of periods that it will spend in \"+str(j)+\" starting from \"+ str(i)+ \" :- \", fundamental_matrix[i][j])\n",
        "\n",
        "print()\n",
        "print()\n",
        "absorbtion_matrix = np.dot(fundamental_matrix, Rmatrix)\n",
        "#print(absorbtion_matrix)\n",
        "for i in range(3):\n",
        "  for j in range(2):\n",
        "    print(\"Probability of absorbtion in state \"+ str(j)+ \" starting at \"+str(i)+\" :- \", absorbtion_matrix[i][j])\n"
      ],
      "execution_count": null,
      "outputs": [
        {
          "output_type": "stream",
          "text": [
            "\n",
            "FUNDAMENTAL MATRIX WILL BE\n",
            "[[1.46153846 0.76923077 0.30769231]\n",
            " [1.15384615 1.92307692 0.76923077]\n",
            " [0.69230769 1.15384615 1.46153846]]\n",
            "\n",
            "Expected number of periods that it will spend in 0 starting from 0 :-  1.4615384615384617\n",
            "Expected number of periods that it will spend in 1 starting from 0 :-  0.7692307692307694\n",
            "Expected number of periods that it will spend in 2 starting from 0 :-  0.3076923076923077\n",
            "Expected number of periods that it will spend in 0 starting from 1 :-  1.153846153846154\n",
            "Expected number of periods that it will spend in 1 starting from 1 :-  1.9230769230769234\n",
            "Expected number of periods that it will spend in 2 starting from 1 :-  0.7692307692307693\n",
            "Expected number of periods that it will spend in 0 starting from 2 :-  0.6923076923076923\n",
            "Expected number of periods that it will spend in 1 starting from 2 :-  1.153846153846154\n",
            "Expected number of periods that it will spend in 2 starting from 2 :-  1.4615384615384617\n",
            "\n",
            "\n",
            "Probability of absorbtion in state 0 starting at 0 :-  0.876923076923077\n",
            "Probability of absorbtion in state 1 starting at 0 :-  0.12307692307692308\n",
            "Probability of absorbtion in state 0 starting at 1 :-  0.6923076923076924\n",
            "Probability of absorbtion in state 1 starting at 1 :-  0.3076923076923077\n",
            "Probability of absorbtion in state 0 starting at 2 :-  0.41538461538461535\n",
            "Probability of absorbtion in state 1 starting at 2 :-  0.5846153846153846\n"
          ],
          "name": "stdout"
        }
      ]
    }
  ]
}