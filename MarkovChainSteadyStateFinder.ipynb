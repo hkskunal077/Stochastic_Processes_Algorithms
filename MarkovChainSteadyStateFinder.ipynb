{
  "nbformat": 4,
  "nbformat_minor": 0,
  "metadata": {
    "colab": {
      "name": "MarkovChainSteadyStateFinder.ipynb",
      "provenance": [],
      "collapsed_sections": [],
      "authorship_tag": "ABX9TyO3R4AZt/tmpa9uGnZhWTR0",
      "include_colab_link": true
    },
    "kernelspec": {
      "name": "python3",
      "display_name": "Python 3"
    }
  },
  "cells": [
    {
      "cell_type": "markdown",
      "metadata": {
        "id": "view-in-github",
        "colab_type": "text"
      },
      "source": [
        "<a href=\"https://colab.research.google.com/github/kunal077/Stochastic_Processes_Algorithms/blob/main/MarkovChainSteadyStateFinder.ipynb\" target=\"_parent\"><img src=\"https://colab.research.google.com/assets/colab-badge.svg\" alt=\"Open In Colab\"/></a>"
      ]
    },
    {
      "cell_type": "code",
      "metadata": {
        "id": "t4ZOvOQhPMCh"
      },
      "source": [
        "#!pip install discreteMarkovChain\n",
        "import numpy as np\n",
        "from discreteMarkovChain import markovChain"
      ],
      "execution_count": null,
      "outputs": []
    },
    {
      "cell_type": "markdown",
      "metadata": {
        "id": "yB4PUnXPS7kI"
      },
      "source": [
        "(a) This is for calculating Steady State Probabilities."
      ]
    },
    {
      "cell_type": "code",
      "metadata": {
        "id": "kp1dX_CaQIDG",
        "colab": {
          "base_uri": "https://localhost:8080/",
          "height": 391
        },
        "outputId": "146fa79e-a551-45a8-863e-7c16de992381"
      },
      "source": [
        "dim_matrix = int(input(\"Enter the dimensions of One-Step Probability Matrix\\n\"))\n",
        "print(\"Enter the matrix row-wise\\n\")\n",
        "P = []\n",
        "for i in range(dim_matrix):\n",
        "  element_list = []\n",
        "  for j in range(dim_matrix):\n",
        "    element = float(input())\n",
        "    element_list.append(element)\n",
        "  P.append(element_list)\n",
        "print(\"Probability Matrix is \\n\",P)"
      ],
      "execution_count": null,
      "outputs": [
        {
          "output_type": "stream",
          "text": [
            "Enter the dimensions of One-Step Probability Matrix\n",
            "4\n",
            "Enter the matrix row-wise\n",
            "\n",
            "0.6\n",
            "0.4\n",
            "0\n",
            "0\n",
            "0.8\n",
            "0.2\n",
            "0\n",
            "0\n",
            "0\n",
            "0.9\n",
            "0\n",
            "0.1\n",
            "0\n",
            "0\n",
            "0.8\n",
            "0.2\n",
            "Probability Matrix is \n",
            " [[0.6, 0.4, 0.0, 0.0], [0.8, 0.2, 0.0, 0.0], [0.0, 0.9, 0.0, 0.1], [0.0, 0.0, 0.8, 0.2]]\n"
          ],
          "name": "stdout"
        }
      ]
    },
    {
      "cell_type": "code",
      "metadata": {
        "id": "N2DzdAyKPd5U",
        "colab": {
          "base_uri": "https://localhost:8080/",
          "height": 51
        },
        "outputId": "9e121090-95b6-4065-93cd-44c3b297afc5"
      },
      "source": [
        "probability_matrix = np.array(P)\n",
        "markov_chain = markovChain(probability_matrix)\n",
        "markov_chain.computePi('linear')\n",
        "print(markov_chain.pi)\n",
        "print(\"These are the Steady State Probabilities\")"
      ],
      "execution_count": null,
      "outputs": [
        {
          "output_type": "stream",
          "text": [
            "[ 0.66666667  0.33333333 -0.         -0.        ]\n",
            "These are the Steady State Probabilities\n"
          ],
          "name": "stdout"
        }
      ]
    },
    {
      "cell_type": "markdown",
      "metadata": {
        "id": "K8xHkRDVTCiF"
      },
      "source": [
        "(b) This is for finding whether a state is Recurrent or Transient."
      ]
    },
    {
      "cell_type": "code",
      "metadata": {
        "id": "ISkUBerMTK7G",
        "colab": {
          "base_uri": "https://localhost:8080/",
          "height": 207
        },
        "outputId": "0b428943-146d-4700-eb46-5f67f32fa3df"
      },
      "source": [
        "from numpy.linalg import matrix_power\n",
        "number_list = []\n",
        "N = int(input(\"Enter the value of N\\n\"))\n",
        "for i in range(dim_matrix):\n",
        "  #Considering for a large N\n",
        "  number_list = []\n",
        "  for j in range(1,N):\n",
        "    PMj = matrix_power(probability_matrix, j)\n",
        "    #print(PMj[i][i])\n",
        "    number_list.append(PMj[i][i])\n",
        "    #print(number_list)\n",
        "  print(number_list)\n",
        "  if sum(number_list)<int(N/10):\n",
        "    print(i, \"th node state is a TRANSIENT STATE\")\n",
        "  else:\n",
        "    print(i, \"th node state is a RECURRENT STATE\")"
      ],
      "execution_count": null,
      "outputs": [
        {
          "output_type": "stream",
          "text": [
            "Enter the value of N\n",
            "10\n",
            "[0.6, 0.68, 0.664, 0.6672000000000001, 0.6665600000000002, 0.6666880000000002, 0.6666624000000001, 0.6666675200000003, 0.6666664960000003]\n",
            "0 th node state is a RECURRENT STATE\n",
            "[0.2, 0.36000000000000004, 0.328, 0.33440000000000003, 0.33312, 0.33337600000000006, 0.3333248000000001, 0.3333350400000001, 0.3333329920000001]\n",
            "1 th node state is a RECURRENT STATE\n",
            "[0.0, 0.08000000000000002, 0.016000000000000004, 0.009600000000000004, 0.0032000000000000015, 0.0014080000000000008, 0.0005376000000000004, 0.0002201600000000002, 8.704000000000009e-05]\n",
            "2 th node state is a TRANSIENT STATE\n",
            "[0.2, 0.12000000000000002, 0.04000000000000001, 0.017600000000000008, 0.006720000000000003, 0.002752000000000002, 0.0010880000000000006, 0.0004377600000000004, 0.0001745920000000002]\n",
            "3 th node state is a TRANSIENT STATE\n"
          ],
          "name": "stdout"
        }
      ]
    }
  ]
}