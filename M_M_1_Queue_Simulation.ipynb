{
  "nbformat": 4,
  "nbformat_minor": 0,
  "metadata": {
    "colab": {
      "name": "M/M/1_Queue_Simulation.ipynb",
      "provenance": [],
      "collapsed_sections": [],
      "authorship_tag": "ABX9TyNwnMtxd/4AfZKf8dmbOBeL",
      "include_colab_link": true
    },
    "kernelspec": {
      "name": "python3",
      "display_name": "Python 3"
    },
    "accelerator": "GPU"
  },
  "cells": [
    {
      "cell_type": "markdown",
      "metadata": {
        "id": "view-in-github",
        "colab_type": "text"
      },
      "source": [
        "<a href=\"https://colab.research.google.com/github/kunal077/Stochastic_Processes_Algorithms/blob/main/M_M_1_Queue_Simulation.ipynb\" target=\"_parent\"><img src=\"https://colab.research.google.com/assets/colab-badge.svg\" alt=\"Open In Colab\"/></a>"
      ]
    },
    {
      "cell_type": "code",
      "metadata": {
        "id": "h6tsjcY7v5Dg",
        "colab": {
          "base_uri": "https://localhost:8080/",
          "height": 566
        },
        "outputId": "2f145f88-d699-4bfd-b3f5-93ddb9379360"
      },
      "source": [
        "import numpy as np\n",
        "import queue\n",
        "import copy\n",
        "import matplotlib.pyplot as plt\n",
        " \n",
        "# Input Parameters\n",
        "total_time = int(input(\"Enter time for simulation (Hours): \"))\n",
        "IAT_rate = int(input(\"Enter Job Arrival Rate (/Hour): \"))\n",
        "ST_rate = int(input(\"Enter Job Service Rate (/Hour): \"))\n",
        "rho = IAT_rate/ST_rate\n",
        " \n",
        " \n",
        "# Initialize Parameters\n",
        "qu = queue.Queue()\n",
        "curr_process = None\n",
        "IAT = []\n",
        "ST = []\n",
        "AT = []\n",
        "wait_time = []\n",
        "server_busy = False\n",
        "list_wait = []\n",
        "list_delay = []\n",
        " \n",
        "num_processes = int(np.random.poisson(IAT_rate)* total_time)\n",
        "num_processes_served = 0\n",
        " \n",
        "# Populate Inter-Arrival-Times (IAT)\n",
        "for i in range(num_processes):\n",
        "    temp = np.random.exponential(1/IAT_rate)*60*60\n",
        "    if i==0:\n",
        "        IAT.append(0)\n",
        "    else:\n",
        "        IAT.append(int(temp - temp%1))\n",
        "        \n",
        "# Populate Service-Times (ST) (where ST[i]!=0)\n",
        "while not len(ST) == num_processes:\n",
        "    temp = np.random.exponential(1/ST_rate)*60*60\n",
        "    if not int(temp- temp%1)<1:\n",
        "        ST.append(int(temp - temp%1))\n",
        " \n",
        "# Save a copy of ST\n",
        "ST_copy = copy.deepcopy(ST)\n",
        " \n",
        "# Get Arrival-Times (AT) from IAT starting at t=0\n",
        "# and initialize Waiting-Times to 0\n",
        "for i in range(num_processes):\n",
        "    if i == 0:\n",
        "        AT.append(0)    \n",
        "    else:\n",
        "        AT.append(AT[i-1] + IAT[i])\n",
        "    wait_time.append(0)\n",
        " \n",
        "# Simulation of M/M/1 Queue (i represents current time)\n",
        " \n",
        "for i in range(total_time*60*60):    \n",
        "    if server_busy:\n",
        "        for item in list(qu.queue):\n",
        "            wait_time[item] = wait_time[item] + 1\n",
        "        ST[curr_process] = ST[curr_process] - 1\n",
        "        if ST[curr_process] == 0:\n",
        "            server_busy = False\n",
        "            num_processes_served = num_processes_served + 1\n",
        " \n",
        "    for j in range(num_processes):\n",
        "        if i== AT[j]:\n",
        "            qu.put(j)\n",
        " \n",
        "    if not server_busy and not qu.empty():\n",
        "        curr_process = qu.get()\n",
        "        server_busy = True\n",
        " \n",
        " \n",
        "    sum_wait = 0\n",
        "    sum_delay = 0\n",
        " \n",
        "    for i in range(num_processes_served):\n",
        "        sum_wait = sum_wait + wait_time[i]\n",
        "        sum_delay = sum_delay + wait_time[i] + ST_copy[i]\n",
        "    \n",
        "    if num_processes_served == 0:\n",
        "        list_wait.append(0)\n",
        "        list_delay.append(0)\n",
        "    else:\n",
        "        list_wait.append(sum_wait/(num_processes_served*60*60))  \n",
        "        list_delay.append(sum_delay/(num_processes_served*60*60))\n",
        " \n",
        "plt.plot([i+1 for i in range(total_time*60*60)], list_wait)\n",
        "plt.ylabel(\"Average Waiting Times\")\n",
        "plt.show()\n",
        " \n",
        "plt.plot([i+1 for i in range(total_time*60*60)], list_delay)\n",
        "plt.ylabel(\"Average Delay Times\")\n",
        "plt.show()"
      ],
      "execution_count": null,
      "outputs": [
        {
          "output_type": "stream",
          "text": [
            "Enter time for simulation (Hours): 6\n",
            "Enter Job Arrival Rate (/Hour): 25\n",
            "Enter Job Service Rate (/Hour): 30\n"
          ],
          "name": "stdout"
        },
        {
          "output_type": "display_data",
          "data": {
            "image/png": "[encoded data removed]",
            "text/plain": [
              "<Figure size 432x288 with 1 Axes>"
            ]
          },
          "metadata": {
            "tags": [],
            "needs_background": "light"
          }
        },
        {
          "output_type": "display_data",
          "data": {
            "image/png": "[encoded data removed]",
            "text/plain": [
              "<Figure size 432x288 with 1 Axes>"
            ]
          },
          "metadata": {
            "tags": [],
            "needs_background": "light"
          }
        }
      ]
    },
    {
      "cell_type": "code",
      "metadata": {
        "id": "atXd1hPD2ovf"
      },
      "source": [
        ""
      ],
      "execution_count": null,
      "outputs": []
    }
  ]
}